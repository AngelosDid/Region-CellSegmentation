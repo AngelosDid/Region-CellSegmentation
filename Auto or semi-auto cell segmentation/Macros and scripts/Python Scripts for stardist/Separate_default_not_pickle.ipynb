{
 "cells": [
  {
   "cell_type": "markdown",
   "id": "e1c40b6e",
   "metadata": {},
   "source": [
    "# This snippet is similar to (1), but instead of making pickle files, it writes the default channel to a tiff. It does not produce the rest channels. It is irrelevant to the pipeline but useful for isolating images of the channel that you want to train with stardist. "
   ]
  },
  {
   "cell_type": "code",
   "execution_count": 1,
   "id": "b9ce98b8",
   "metadata": {},
   "outputs": [
    {
     "ename": "ValueError",
     "evalue": "not a CZI file",
     "output_type": "error",
     "traceback": [
      "\u001b[1;31m---------------------------------------------------------------------------\u001b[0m",
      "\u001b[1;31mValueError\u001b[0m                                Traceback (most recent call last)",
      "Input \u001b[1;32mIn [1]\u001b[0m, in \u001b[0;36m<cell line: 66>\u001b[1;34m()\u001b[0m\n\u001b[0;32m     64\u001b[0m select_save_dir()\n\u001b[0;32m     65\u001b[0m images_in_dir         \u001b[38;5;241m=\u001b[39m [img \u001b[38;5;28;01mfor\u001b[39;00m img \u001b[38;5;129;01min\u001b[39;00m listdir(latest_directory) \u001b[38;5;28;01mif\u001b[39;00m isfile(join(latest_directory, img))]\n\u001b[1;32m---> 66\u001b[0m randomly_picked_img   \u001b[38;5;241m=\u001b[39m \u001b[43mczifile\u001b[49m\u001b[38;5;241;43m.\u001b[39;49m\u001b[43mimread\u001b[49m\u001b[43m(\u001b[49m\u001b[43mjoin\u001b[49m\u001b[43m(\u001b[49m\u001b[43mlatest_directory\u001b[49m\u001b[43m,\u001b[49m\u001b[43mimages_in_dir\u001b[49m\u001b[43m[\u001b[49m\u001b[38;5;241;43m0\u001b[39;49m\u001b[43m]\u001b[49m\u001b[43m)\u001b[49m\u001b[43m)\u001b[49m \n\u001b[0;32m     67\u001b[0m randomly_picked_img   \u001b[38;5;241m=\u001b[39m np\u001b[38;5;241m.\u001b[39msqueeze(randomly_picked_img)\n\u001b[0;32m     68\u001b[0m randomly_picked_img   \u001b[38;5;241m=\u001b[39m np\u001b[38;5;241m.\u001b[39mtranspose(randomly_picked_img, (\u001b[38;5;241m1\u001b[39m,\u001b[38;5;241m2\u001b[39m,\u001b[38;5;241m0\u001b[39m))\n",
      "File \u001b[1;32m~\\Anaconda3\\lib\\site-packages\\czifile\\czifile.py:220\u001b[0m, in \u001b[0;36mimread\u001b[1;34m(filename, *args, **kwargs)\u001b[0m\n\u001b[0;32m    214\u001b[0m \u001b[38;5;28;01mdef\u001b[39;00m \u001b[38;5;21mimread\u001b[39m(filename, \u001b[38;5;241m*\u001b[39margs, \u001b[38;5;241m*\u001b[39m\u001b[38;5;241m*\u001b[39mkwargs):\n\u001b[0;32m    215\u001b[0m \u001b[38;5;250m    \u001b[39m\u001b[38;5;124;03m\"\"\"Return image data from CZI file as numpy array.\u001b[39;00m\n\u001b[0;32m    216\u001b[0m \n\u001b[0;32m    217\u001b[0m \u001b[38;5;124;03m    'args' and 'kwargs' are arguments to the CziFile.asarray function.\u001b[39;00m\n\u001b[0;32m    218\u001b[0m \n\u001b[0;32m    219\u001b[0m \u001b[38;5;124;03m    \"\"\"\u001b[39;00m\n\u001b[1;32m--> 220\u001b[0m     \u001b[38;5;28;01mwith\u001b[39;00m \u001b[43mCziFile\u001b[49m\u001b[43m(\u001b[49m\u001b[43mfilename\u001b[49m\u001b[43m)\u001b[49m \u001b[38;5;28;01mas\u001b[39;00m czi:\n\u001b[0;32m    221\u001b[0m         result \u001b[38;5;241m=\u001b[39m czi\u001b[38;5;241m.\u001b[39masarray(\u001b[38;5;241m*\u001b[39margs, \u001b[38;5;241m*\u001b[39m\u001b[38;5;241m*\u001b[39mkwargs)\n\u001b[0;32m    222\u001b[0m     \u001b[38;5;28;01mreturn\u001b[39;00m result\n",
      "File \u001b[1;32m~\\Anaconda3\\lib\\site-packages\\czifile\\czifile.py:266\u001b[0m, in \u001b[0;36mCziFile.__init__\u001b[1;34m(self, arg, multifile, filesize, detectmosaic)\u001b[0m\n\u001b[0;32m    264\u001b[0m \u001b[38;5;28;01mtry\u001b[39;00m:\n\u001b[0;32m    265\u001b[0m     \u001b[38;5;28;01mif\u001b[39;00m \u001b[38;5;28mself\u001b[39m\u001b[38;5;241m.\u001b[39m_fh\u001b[38;5;241m.\u001b[39mread(\u001b[38;5;241m10\u001b[39m) \u001b[38;5;241m!=\u001b[39m \u001b[38;5;124mb\u001b[39m\u001b[38;5;124m'\u001b[39m\u001b[38;5;124mZISRAWFILE\u001b[39m\u001b[38;5;124m'\u001b[39m:\n\u001b[1;32m--> 266\u001b[0m         \u001b[38;5;28;01mraise\u001b[39;00m \u001b[38;5;167;01mValueError\u001b[39;00m(\u001b[38;5;124m'\u001b[39m\u001b[38;5;124mnot a CZI file\u001b[39m\u001b[38;5;124m'\u001b[39m)\n\u001b[0;32m    267\u001b[0m     \u001b[38;5;28mself\u001b[39m\u001b[38;5;241m.\u001b[39mheader \u001b[38;5;241m=\u001b[39m Segment(\u001b[38;5;28mself\u001b[39m\u001b[38;5;241m.\u001b[39m_fh, \u001b[38;5;241m0\u001b[39m)\u001b[38;5;241m.\u001b[39mdata()\n\u001b[0;32m    268\u001b[0m \u001b[38;5;28;01mexcept\u001b[39;00m \u001b[38;5;167;01mException\u001b[39;00m:\n",
      "\u001b[1;31mValueError\u001b[0m: not a CZI file"
     ]
    }
   ],
   "source": [
    "import cv2\n",
    "import pickle\n",
    "import os\n",
    "import sys\n",
    "import timeit\n",
    "import numpy as np\n",
    "import czifile\n",
    "from shapely.geometry import Polygon\n",
    "from itertools import cycle, islice \n",
    "from tkinter import *\n",
    "from tkinter import filedialog\n",
    "from tkinter.filedialog import askdirectory\n",
    "from tkinter import messagebox\n",
    "from os import listdir\n",
    "from os.path import isfile, join, exists\n",
    "\n",
    "def select_unprocessed_czi_directory ():\n",
    "    def select_specific_directory():\n",
    "        global latest_directory\n",
    "        latest_directory = filedialog.askdirectory(title='Select czi folder')\n",
    "        root.destroy()\n",
    "    root = Tk()\n",
    "    root.title ('Transform Images')\n",
    "    root.resizable(True,True)\n",
    "    root.geometry('300x200')\n",
    "    DirButton = Button(root,text='Locate your czi image folder', command=select_specific_directory).place(x=75,y=80)\n",
    "    root.mainloop()\n",
    "\n",
    "def select_save_dir ():\n",
    "    def select_spec_save_dir():\n",
    "        global save_dir\n",
    "        save_dir = filedialog.askdirectory(title='Where to save')\n",
    "        sroot.destroy()\n",
    "    sroot = Tk()\n",
    "    sroot.title ('Channels folder')\n",
    "    sroot.resizable(True,True)\n",
    "    sroot.geometry('300x200')\n",
    "    DirButton = Button(sroot,text='Select folder to save resized images ', command=select_spec_save_dir).place(x=70,y=80)\n",
    "    sroot.mainloop()\n",
    "    \n",
    "def select_default_channel():\n",
    "    def get_channel_entry ():\n",
    "        global default_channel\n",
    "        try :\n",
    "            default_channel = int(select_entry.get()) - 1\n",
    "            if default_channel+1 > example_n_of_channels :\n",
    "                messagebox.showerror(title='Exceeded number of channels',message=f'You have selected channel {default_channel+1} but based on a random file ({images_in_dir[0]}) your images have {example_n_of_channels}')\n",
    "                return\n",
    "        except :\n",
    "            messagebox.showerror(message='There is something wrong with your input. Please type a number.')\n",
    "        else :\n",
    "            selectroot.destroy()\n",
    "    \n",
    "    selectroot = Tk()\n",
    "    selectroot.title('Display channel selection')\n",
    "    select_label = Label(selectroot, text=\"Type the number of your default channel for display\")\n",
    "    select_label.pack( side = LEFT)\n",
    "    select_entry = Entry(selectroot, bd =5)\n",
    "    select_entry.pack(side = RIGHT)\n",
    "    select_button = Button(selectroot, text='OK', command = get_channel_entry).pack(side = RIGHT)\n",
    "    selectroot.mainloop()\n",
    "\n",
    "select_unprocessed_czi_directory()    \n",
    "select_save_dir()\n",
    "images_in_dir         = [img for img in listdir(latest_directory) if isfile(join(latest_directory, img))]\n",
    "randomly_picked_img   = czifile.imread(join(latest_directory,images_in_dir[0])) \n",
    "randomly_picked_img   = np.squeeze(randomly_picked_img)\n",
    "randomly_picked_img   = np.transpose(randomly_picked_img, (1,2,0))\n",
    "example_n_of_channels = randomly_picked_img.shape[-1]\n",
    "select_default_channel()\n",
    "\n",
    "\n",
    "\n",
    "for img in images_in_dir :\n",
    "    path = f'{latest_directory}/{img}'\n",
    "    try :\n",
    "        eikona = czifile.imread(path)                                                           # 4 secs\n",
    "    except ValueError:\n",
    "        notcizroot = Tk()\n",
    "        messagebox.showerror(title='Wrong file extension', message='Only czi files are allowed in image folder. This program will terminate')\n",
    "        notcizroot.destroy()\n",
    "        sys.exit(0)\n",
    "    \n",
    "    # Squeeze the image to remove the first and last dimensions\n",
    "    eikona = np.squeeze(eikona)                                                    # we want to convert from 5 dimensions to 3. So we reduce the dimensions with a value of one (beginning and end)\n",
    "\n",
    "    # Transpose the image to rearrange the dimensions                              # the channel dimension goes from start to end to fit with opencv\n",
    "    eikona = np.transpose(eikona, (1, 2, 0))                  \n",
    "\n",
    "    # # Convert the CZI image to BGR color format for OpenCV\n",
    "    eikona = cv2.cvtColor(eikona, cv2.COLOR_RGB2BGR)                              \n",
    "    n_of_channels = eikona.shape[-1]\n",
    "    cv2.imwrite(f'{save_dir}/{img}_default.tiff',eikona[:,:,default_channel])\n",
    "\n",
    "                \n",
    " "
   ]
  },
  {
   "cell_type": "markdown",
   "id": "571704ca",
   "metadata": {},
   "source": [
    "# "
   ]
  },
  {
   "cell_type": "code",
   "execution_count": null,
   "id": "b2d6e6e1",
   "metadata": {},
   "outputs": [],
   "source": []
  }
 ],
 "metadata": {
  "hide_input": false,
  "kernelspec": {
   "display_name": "Python 3 (ipykernel)",
   "language": "python",
   "name": "python3"
  },
  "language_info": {
   "codemirror_mode": {
    "name": "ipython",
    "version": 3
   },
   "file_extension": ".py",
   "mimetype": "text/x-python",
   "name": "python",
   "nbconvert_exporter": "python",
   "pygments_lexer": "ipython3",
   "version": "3.9.12"
  }
 },
 "nbformat": 4,
 "nbformat_minor": 5
}
