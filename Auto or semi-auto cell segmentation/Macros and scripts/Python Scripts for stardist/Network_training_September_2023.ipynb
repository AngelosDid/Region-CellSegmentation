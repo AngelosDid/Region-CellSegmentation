{
  "cells": [
    {
      "cell_type": "markdown",
      "metadata": {
        "id": "JolgzMnYsX4F"
      },
      "source": [
        "## Connect to Google drive"
      ]
    },
    {
      "cell_type": "code",
      "execution_count": null,
      "metadata": {
        "colab": {
          "base_uri": "https://localhost:8080/"
        },
        "id": "QAD2xxhhemhl",
        "outputId": "958551d7-3ce2-4ab5-9b86-f9776c6782e4"
      },
      "outputs": [],
      "source": [
        "from google.colab import drive\n",
        "drive.mount('/content/gdrive')"
      ]
    },
    {
      "cell_type": "markdown",
      "metadata": {
        "id": "zOUqqODHrZAd"
      },
      "source": [
        "#Change directory and list your files\n"
      ]
    },
    {
      "cell_type": "code",
      "execution_count": null,
      "metadata": {
        "colab": {
          "base_uri": "https://localhost:8080/"
        },
        "id": "8XlfnJaarsmI",
        "outputId": "ff751bcf-5d92-4107-f165-63f2231bb424"
      },
      "outputs": [],
      "source": [
        "import os\n",
        "os.chdir(\"/content/gdrive/MyDrive/Colab Notebooks/ground_truth\")\n",
        "!ls"
      ]
    },
    {
      "cell_type": "code",
      "execution_count": null,
      "metadata": {
        "id": "7xGcdCBCr2KL"
      },
      "outputs": [],
      "source": [
        "# to see in which directory you are -> os.getcwd()"
      ]
    },
    {
      "cell_type": "markdown",
      "metadata": {
        "id": "Sg0MPUHcsm1-"
      },
      "source": [
        "## Test connection to hosted runtime"
      ]
    },
    {
      "cell_type": "code",
      "execution_count": null,
      "metadata": {
        "colab": {
          "base_uri": "https://localhost:8080/"
        },
        "id": "k6TPGfqIqyxh",
        "outputId": "3b5854ca-7f08-4433-81e3-427839f8de8b"
      },
      "outputs": [],
      "source": [
        "import os\n",
        "\n",
        "# Check if connected to a hosted runtime\n",
        "if 'google.colab' in str(get_ipython()):\n",
        "    print('Connected to a hosted runtime')\n",
        "else:\n",
        "    print('Not connected to a hosted runtime')\n",
        "\n",
        "# Check available files in the runtime\n",
        "print('Files in the current directory:')\n",
        "print(os.listdir())\n",
        "\n",
        "# Check system information\n",
        "print('System information:')\n",
        "!cat /proc/cpuinfo | grep 'model name' | uniq         # Will display the CPU information regardless GPU is being used or not\n",
        "!cat /proc/meminfo | grep 'MemTotal'"
      ]
    },
    {
      "cell_type": "code",
      "execution_count": null,
      "metadata": {
        "id": "V1TQYB1qulYc"
      },
      "outputs": [],
      "source": []
    },
    {
      "cell_type": "markdown",
      "metadata": {
        "id": "pGAQoISpurMv"
      },
      "source": [
        "Go to edit -> Notebook settings and change to GPU"
      ]
    },
    {
      "cell_type": "markdown",
      "metadata": {
        "id": "hoDaX7kjumDQ"
      },
      "source": [
        "## Test if GPU is used"
      ]
    },
    {
      "cell_type": "code",
      "execution_count": null,
      "metadata": {
        "colab": {
          "base_uri": "https://localhost:8080/"
        },
        "id": "kDUwJy_QsKyS",
        "outputId": "1ff4b2e7-f09f-4328-94a1-a71acb17837e"
      },
      "outputs": [],
      "source": [
        "import torch\n",
        "\n",
        "device = torch.device(\"cuda\" if torch.cuda.is_available() else \"cpu\")\n",
        "print(\"Device:\", device)                              # if it says cuda, it means GPU is used\n",
        "\n",
        "\n",
        "!nvidia-smi --query-gpu=gpu_name --format=csv         # Will display GPU information if it's used\n"
      ]
    },
    {
      "cell_type": "code",
      "execution_count": null,
      "metadata": {
        "id": "M5X4DH6Tgi0O"
      },
      "outputs": [],
      "source": [
        "# Upload directly instead of mounting\n",
        "# from google.colab import files\n",
        "# uploaded = files.upload()"
      ]
    },
    {
      "cell_type": "code",
      "execution_count": null,
      "metadata": {
        "colab": {
          "base_uri": "https://localhost:8080/"
        },
        "id": "khG5VHgSCydK",
        "outputId": "08130e43-bb27-4f10-e3fc-cfd04b446594"
      },
      "outputs": [],
      "source": [
        "! pip install stardist"
      ]
    },
    {
      "cell_type": "markdown",
      "metadata": {
        "id": "c_TVBrlG9lLQ"
      },
      "source": [
        "#Test image loading and visualization"
      ]
    },
    {
      "cell_type": "code",
      "execution_count": null,
      "metadata": {
        "id": "SdyL8WjEnOWH"
      },
      "outputs": [],
      "source": [
        "from __future__ import print_function, unicode_literals, absolute_import, division\n",
        "import sys\n",
        "import numpy as np\n",
        "import matplotlib\n",
        "matplotlib.rcParams[\"image.interpolation\"] = 'none'\n",
        "import matplotlib.pyplot as plt\n",
        "%matplotlib inline\n",
        "%config InlineBackend.figure_format = 'retina'\n",
        "\n",
        "from glob import glob\n",
        "from tqdm import tqdm\n",
        "from tifffile import imread\n",
        "from csbdeep.utils import Path, normalize\n",
        "\n",
        "from stardist import fill_label_holes, random_label_cmap, calculate_extents, gputools_available, relabel_image_stardist\n",
        "from stardist.matching import matching, matching_dataset\n",
        "from stardist.models import Config2D, StarDist2D, StarDistData2D\n",
        "\n",
        "np.random.seed(42)\n",
        "lbl_cmap = random_label_cmap()"
      ]
    },
    {
      "cell_type": "code",
      "execution_count": null,
      "metadata": {
        "id": "osuIxEZ3f_SV"
      },
      "outputs": [],
      "source": [
        "# Because I have changed the directory, I call images and masks directly instead of content/gdrive etc\n",
        "X = sorted(glob('images/*.tif'))\n",
        "Y = sorted(glob('masks/*.tif'))\n",
        "assert all(Path(x).name==Path(y).name for x,y in zip(X,Y))"
      ]
    },
    {
      "cell_type": "code",
      "execution_count": null,
      "metadata": {
        "id": "PW4MvCjNojGf"
      },
      "outputs": [],
      "source": [
        "X = list(map(imread,X))\n",
        "Y = list(map(imread,Y))"
      ]
    },
    {
      "cell_type": "code",
      "execution_count": null,
      "metadata": {
        "id": "ZKc9831gomj6"
      },
      "outputs": [],
      "source": [
        "i = min(5, len(X)-1)\n",
        "img, lbl = X[i], fill_label_holes(Y[i])\n",
        "assert img.ndim in (2,3)\n",
        "img = img if img.ndim==2 else img[...,:3]\n",
        "# assumed axes ordering of img and lbl is: YX(C)"
      ]
    },
    {
      "cell_type": "markdown",
      "metadata": {
        "id": "uashwWVk-abG"
      },
      "source": [
        "###Visualization with specific vmin and vmax"
      ]
    },
    {
      "cell_type": "code",
      "execution_count": null,
      "metadata": {
        "colab": {
          "base_uri": "https://localhost:8080/",
          "height": 621
        },
        "id": "40DnJySntE3H",
        "outputId": "f654f6a6-26e1-49c3-c6ce-eb22cf3ce6ba"
      },
      "outputs": [],
      "source": [
        "plt.figure(figsize=(16,10))\n",
        "plt.subplot(121); plt.imshow(img,cmap='gray', vmin=290, vmax=1516);   plt.axis('off'); plt.title('Raw image')         #if there is very strong signal the less bright neurons are not visualized unless we set vmin and vmax\n",
        "plt.subplot(122); plt.imshow(lbl,cmap=lbl_cmap); plt.axis('off'); plt.title('GT labels')\n",
        "None;"
      ]
    },
    {
      "cell_type": "markdown",
      "metadata": {
        "id": "N7CcDkqM-iDO"
      },
      "source": [
        "##Visualization of all spectrum"
      ]
    },
    {
      "cell_type": "code",
      "execution_count": null,
      "metadata": {
        "colab": {
          "base_uri": "https://localhost:8080/",
          "height": 621
        },
        "id": "qqPUmygF92sJ",
        "outputId": "c67ef1de-f05f-46db-cc1e-555d5dc48284"
      },
      "outputs": [],
      "source": [
        "plt.figure(figsize=(16,10))\n",
        "plt.subplot(121); plt.imshow(img,cmap='seismic', vmin=290, vmax=1516);   plt.axis('off'); plt.title('Intensity spectrum')\n",
        "plt.subplot(122); plt.imshow(lbl,cmap=lbl_cmap); plt.axis('off'); plt.title('GT labels')\n",
        "None;"
      ]
    },
    {
      "cell_type": "code",
      "execution_count": null,
      "metadata": {
        "colab": {
          "base_uri": "https://localhost:8080/"
        },
        "id": "fFpvoFAS-_kl",
        "outputId": "e34c4a98-0c7c-4827-ac29-10f57a214b0c"
      },
      "outputs": [],
      "source": [
        "n_rays = [2**i for i in range(2,8)]\n",
        "scores = []\n",
        "for r in tqdm(n_rays):\n",
        "    Y_reconstructed = [relabel_image_stardist(lbl, n_rays=r) for lbl in Y]\n",
        "    mean_iou = matching_dataset(Y, Y_reconstructed, thresh=0, show_progress=False).mean_true_score\n",
        "    scores.append(mean_iou)"
      ]
    },
    {
      "cell_type": "code",
      "execution_count": null,
      "metadata": {
        "colab": {
          "base_uri": "https://localhost:8080/",
          "height": 486
        },
        "id": "XZSPThcl_hDb",
        "outputId": "618a7618-0696-40c2-e8c7-9543fed50528"
      },
      "outputs": [],
      "source": [
        "plt.figure(figsize=(8,5))\n",
        "plt.plot(n_rays, scores, 'o-')\n",
        "plt.xlabel('Number of rays for star-convex polygon')\n",
        "plt.ylabel('Reconstruction score (mean intersection over union)')\n",
        "plt.title(\"Accuracy of ground truth reconstruction (should be > 0.8 for a reasonable number of rays)\")\n",
        "None;"
      ]
    },
    {
      "cell_type": "code",
      "execution_count": null,
      "metadata": {
        "colab": {
          "base_uri": "https://localhost:8080/",
          "height": 1000
        },
        "id": "hEKamDBv_6dv",
        "outputId": "65c69455-9a6b-4724-ab41-e21962a7d3cf"
      },
      "outputs": [],
      "source": [
        "fig, ax = plt.subplots(2,3, figsize=(16,11))\n",
        "for a,r in zip(ax.flat,n_rays):\n",
        "    a.imshow(relabel_image_stardist(lbl, n_rays=r), cmap=lbl_cmap)\n",
        "    a.set_title('Reconstructed (%d rays)' % r)\n",
        "    a.axis('off')\n",
        "plt.tight_layout();"
      ]
    },
    {
      "cell_type": "markdown",
      "metadata": {
        "id": "N_Htgdxcp-P4"
      },
      "source": [
        "#Training\n"
      ]
    },
    {
      "cell_type": "code",
      "execution_count": null,
      "metadata": {
        "id": "1ScazFFWqBxd"
      },
      "outputs": [],
      "source": [
        "n_channel = 1 if X[0].ndim == 2 else X[0].shape[-1]\n"
      ]
    },
    {
      "cell_type": "code",
      "execution_count": null,
      "metadata": {
        "colab": {
          "base_uri": "https://localhost:8080/"
        },
        "id": "JUwtchkRqF-t",
        "outputId": "27cf2dc1-41d7-40c0-a999-d37e3d181e9e"
      },
      "outputs": [],
      "source": [
        "axis_norm = (0,1)   # normalize channels independently\n",
        "# axis_norm = (0,1,2) # normalize channels jointly\n",
        "if n_channel > 1:\n",
        "    print(\"Normalizing image channels %s.\" % ('jointly' if axis_norm is None or 2 in axis_norm else 'independently'))\n",
        "    sys.stdout.flush()\n",
        "\n",
        "X = [normalize(x,1,99.8,axis=axis_norm) for x in tqdm(X)]\n",
        "Y = [fill_label_holes(y) for y in tqdm(Y)]"
      ]
    },
    {
      "cell_type": "code",
      "execution_count": null,
      "metadata": {
        "colab": {
          "base_uri": "https://localhost:8080/"
        },
        "id": "_am_Mw5gqKzV",
        "outputId": "1477172e-e7ea-4c27-e277-49aa7673b80f"
      },
      "outputs": [],
      "source": [
        "assert len(X) > 1, \"not enough training data\"\n",
        "rng = np.random.RandomState(42)\n",
        "ind = rng.permutation(len(X))\n",
        "n_val = max(1, int(round(0.15 * len(ind))))\n",
        "ind_train, ind_val = ind[:-n_val], ind[-n_val:]\n",
        "X_val, Y_val = [X[i] for i in ind_val]  , [Y[i] for i in ind_val]\n",
        "X_trn, Y_trn = [X[i] for i in ind_train], [Y[i] for i in ind_train]\n",
        "print('number of images: %3d' % len(X))\n",
        "print('- training:       %3d' % len(X_trn))\n",
        "print('- validation:     %3d' % len(X_val))"
      ]
    },
    {
      "cell_type": "code",
      "execution_count": null,
      "metadata": {
        "id": "6cZyZGzWq13L"
      },
      "outputs": [],
      "source": [
        "def plot_img_label(img, lbl, img_title=\"image\", lbl_title=\"label\", **kwargs):\n",
        "    fig, (ai,al) = plt.subplots(1,2, figsize=(12,5), gridspec_kw=dict(width_ratios=(1.25,1)))\n",
        "    im = ai.imshow(img, cmap='gray', clim=(0,1))\n",
        "    ai.set_title(img_title)\n",
        "    fig.colorbar(im, ax=ai)\n",
        "    al.imshow(lbl, cmap=lbl_cmap)\n",
        "    al.set_title(lbl_title)\n",
        "    plt.tight_layout()"
      ]
    },
    {
      "cell_type": "code",
      "execution_count": null,
      "metadata": {
        "colab": {
          "base_uri": "https://localhost:8080/",
          "height": 515
        },
        "id": "2nN35NIOrEnN",
        "outputId": "20b9c39b-1ce6-4700-d398-a0d9b9b1df81"
      },
      "outputs": [],
      "source": [
        "i = min(9, len(X)-1)\n",
        "img, lbl = X[i], Y[i]\n",
        "assert img.ndim in (2,3)\n",
        "img = img if (img.ndim==2 or img.shape[-1]==3) else img[...,0]\n",
        "plot_img_label(img,lbl)\n",
        "None;"
      ]
    },
    {
      "cell_type": "markdown",
      "metadata": {},
      "source": [
        "### Mind the patch_size and grid (see FAQ of stardist training)"
      ]
    },
    {
      "cell_type": "code",
      "execution_count": null,
      "metadata": {
        "colab": {
          "base_uri": "https://localhost:8080/"
        },
        "id": "4ADlFUorss0_",
        "outputId": "67b6065f-7075-4aa9-cddd-aaf7edde4906"
      },
      "outputs": [],
      "source": [
        "# 32 is a good default choice (see 1_data.ipynb)\n",
        "n_rays = 32\n",
        "\n",
        "# Use OpenCL-based computations for data generator during training (requires 'gputools')\n",
        "use_gpu = False and gputools_available()\n",
        "\n",
        "# Predict on subsampled grid for increased efficiency and larger field of view\n",
        "grid = (2,2)\n",
        "\n",
        "conf = Config2D (\n",
        "    n_rays           = n_rays,\n",
        "    grid             = grid,\n",
        "    use_gpu          = use_gpu,\n",
        "    n_channel_in     = n_channel,\n",
        "    train_patch_size = (160,160)\n",
        ")\n",
        "print(conf)\n",
        "vars(conf)"
      ]
    },
    {
      "cell_type": "code",
      "execution_count": null,
      "metadata": {
        "id": "lqDh1uM9s3Ag"
      },
      "outputs": [],
      "source": [
        "if use_gpu:\n",
        "    from csbdeep.utils.tf import limit_gpu_memory\n",
        "    # adjust as necessary: limit GPU memory to be used by TensorFlow to leave some to OpenCL-based computations\n",
        "    limit_gpu_memory(0.8)\n",
        "    # alternatively, try this:\n",
        "    # limit_gpu_memory(None, allow_growth=True)"
      ]
    },
    {
      "cell_type": "markdown",
      "metadata": {
        "id": "5YdFE3O6BQt_"
      },
      "source": [
        "### Define model and select basedir where it will be saved"
      ]
    },
    {
      "cell_type": "code",
      "execution_count": null,
      "metadata": {
        "colab": {
          "base_uri": "https://localhost:8080/"
        },
        "id": "6A_6ccyYtNzd",
        "outputId": "64ac6356-8a20-4a7b-c788-9df273257157"
      },
      "outputs": [],
      "source": [
        "model = StarDist2D(conf, name='stardist', basedir='models')\n"
      ]
    },
    {
      "cell_type": "code",
      "execution_count": null,
      "metadata": {
        "colab": {
          "base_uri": "https://localhost:8080/"
        },
        "id": "TSg3BRqitXR2",
        "outputId": "9ffad83d-f6c0-4b3f-dbe4-33f8839c759d"
      },
      "outputs": [],
      "source": [
        "median_size = calculate_extents(list(Y), np.median)\n",
        "fov = np.array(model._axes_tile_overlap('YX'))\n",
        "print(f\"median object size:      {median_size}\")\n",
        "print(f\"network field of view :  {fov}\")\n",
        "if any(median_size > fov):\n",
        "    print(\"WARNING: median object size larger than field of view of the neural network.\")"
      ]
    },
    {
      "cell_type": "code",
      "execution_count": null,
      "metadata": {
        "id": "y0eXrjcDtnpO"
      },
      "outputs": [],
      "source": [
        "def random_fliprot(img, mask):\n",
        "    assert img.ndim >= mask.ndim\n",
        "    axes = tuple(range(mask.ndim))\n",
        "    perm = tuple(np.random.permutation(axes))\n",
        "    img = img.transpose(perm + tuple(range(mask.ndim, img.ndim)))\n",
        "    mask = mask.transpose(perm)\n",
        "    for ax in axes:\n",
        "        if np.random.rand() > 0.5:\n",
        "            img = np.flip(img, axis=ax)\n",
        "            mask = np.flip(mask, axis=ax)\n",
        "    return img, mask\n",
        "\n",
        "def random_intensity_change(img):\n",
        "    img = img*np.random.uniform(0.6,2) + np.random.uniform(-0.2,0.2)\n",
        "    return img\n",
        "\n",
        "\n",
        "def augmenter(x, y):\n",
        "    \"\"\"Augmentation of a single input/label image pair.\n",
        "    x is an input image\n",
        "    y is the corresponding ground-truth label image\n",
        "    \"\"\"\n",
        "    x, y = random_fliprot(x, y)\n",
        "    x = random_intensity_change(x)\n",
        "    # add some gaussian noise\n",
        "    sig = 0.02*np.random.uniform(0,1)\n",
        "    x = x + sig*np.random.normal(0,1,x.shape)\n",
        "    return x, y"
      ]
    },
    {
      "cell_type": "code",
      "execution_count": null,
      "metadata": {
        "colab": {
          "base_uri": "https://localhost:8080/",
          "height": 1000
        },
        "id": "NMkbWtPutrpd",
        "outputId": "5b3d47f9-325a-4610-f4e5-05f63ccb8eea"
      },
      "outputs": [],
      "source": [
        "# plot some augmented examples\n",
        "img, lbl = X[0],Y[0]\n",
        "plot_img_label(img, lbl)\n",
        "for _ in range(3):\n",
        "    img_aug, lbl_aug = augmenter(img,lbl)\n",
        "    plot_img_label(img_aug, lbl_aug, img_title=\"image augmented\", lbl_title=\"label augmented\")"
      ]
    },
    {
      "cell_type": "code",
      "execution_count": null,
      "metadata": {
        "colab": {
          "base_uri": "https://localhost:8080/"
        },
        "id": "xuj5N-ZQvcfZ",
        "outputId": "64b6924b-ce46-40a3-a00e-e0526c529623"
      },
      "outputs": [],
      "source": [
        "quick_demo = False\n",
        "\n",
        "if quick_demo:\n",
        "    print (\n",
        "        \"NOTE: This is only for a quick demonstration!\\n\"\n",
        "        \"      Please set the variable 'quick_demo = False' for proper (long) training.\",\n",
        "        file=sys.stderr, flush=True\n",
        "    )\n",
        "    model.train(X_trn, Y_trn, validation_data=(X_val,Y_val), augmenter=augmenter,\n",
        "                epochs=2, steps_per_epoch=10)\n",
        "\n",
        "    print(\"====> Stopping training and loading previously trained demo model from disk.\", file=sys.stderr, flush=True)\n",
        "    model = StarDist2D.from_pretrained('2D_demo')\n",
        "else:\n",
        "    model.train(X_trn, Y_trn, validation_data=(X_val,Y_val), augmenter=augmenter)\n",
        "None;"
      ]
    },
    {
      "cell_type": "code",
      "execution_count": null,
      "metadata": {
        "colab": {
          "base_uri": "https://localhost:8080/"
        },
        "id": "lzU49Eig371z",
        "outputId": "4eec98c3-92ff-41cc-ea85-582bfea8f015"
      },
      "outputs": [],
      "source": [
        "if quick_demo:\n",
        "    model.optimize_thresholds(X_val[:2], Y_val[:2])\n",
        "else:\n",
        "    model.optimize_thresholds(X_val, Y_val)"
      ]
    },
    {
      "cell_type": "code",
      "execution_count": null,
      "metadata": {
        "colab": {
          "base_uri": "https://localhost:8080/"
        },
        "id": "7SbJZi4J4Hec",
        "outputId": "47797de8-f8a9-42e5-b774-12a08c167ecb"
      },
      "outputs": [],
      "source": [
        "Y_val_pred = [model.predict_instances(x, n_tiles=model._guess_n_tiles(x), show_tile_progress=False)[0]\n",
        "              for x in tqdm(X_val)]"
      ]
    },
    {
      "cell_type": "code",
      "execution_count": null,
      "metadata": {
        "colab": {
          "base_uri": "https://localhost:8080/",
          "height": 1000
        },
        "id": "5E7oOR0B4LLd",
        "outputId": "ea94ae99-6403-4219-846e-baffc5132b86"
      },
      "outputs": [],
      "source": [
        "plot_img_label(X_val[0],Y_val[0], lbl_title=\"label GT\")\n",
        "plot_img_label(X_val[0],Y_val_pred[0], lbl_title=\"label Pred\")"
      ]
    },
    {
      "cell_type": "code",
      "execution_count": null,
      "metadata": {
        "colab": {
          "base_uri": "https://localhost:8080/"
        },
        "id": "M4sjzl_241o6",
        "outputId": "133a030d-f7c8-4a40-f76e-cfc8f56b0287"
      },
      "outputs": [],
      "source": [
        "taus = [0.1, 0.2, 0.3, 0.4, 0.5, 0.6, 0.7, 0.8, 0.9]\n",
        "stats = [matching_dataset(Y_val, Y_val_pred, thresh=t, show_progress=False) for t in tqdm(taus)]"
      ]
    },
    {
      "cell_type": "code",
      "execution_count": null,
      "metadata": {
        "colab": {
          "base_uri": "https://localhost:8080/"
        },
        "id": "QVMJTO7U45BK",
        "outputId": "b60bc07e-431c-4b00-9370-fc4de0d23ad7"
      },
      "outputs": [],
      "source": [
        "stats[taus.index(0.5)]\n"
      ]
    },
    {
      "cell_type": "code",
      "execution_count": null,
      "metadata": {
        "colab": {
          "base_uri": "https://localhost:8080/",
          "height": 465
        },
        "id": "SMQnZZEQ4-VE",
        "outputId": "73dc9d37-d229-4465-947a-9385848f8ee2"
      },
      "outputs": [],
      "source": [
        "fig, (ax1,ax2) = plt.subplots(1,2, figsize=(15,5))\n",
        "\n",
        "for m in ('precision', 'recall', 'accuracy', 'f1', 'mean_true_score', 'mean_matched_score', 'panoptic_quality'):\n",
        "    ax1.plot(taus, [s._asdict()[m] for s in stats], '.-', lw=2, label=m)\n",
        "ax1.set_xlabel(r'IoU threshold $\\tau$')\n",
        "ax1.set_ylabel('Metric value')\n",
        "ax1.grid()\n",
        "ax1.legend()\n",
        "\n",
        "for m in ('fp', 'tp', 'fn'):\n",
        "    ax2.plot(taus, [s._asdict()[m] for s in stats], '.-', lw=2, label=m)\n",
        "ax2.set_xlabel(r'IoU threshold $\\tau$')\n",
        "ax2.set_ylabel('Number #')\n",
        "ax2.grid()\n",
        "ax2.legend();"
      ]
    },
    {
      "cell_type": "code",
      "execution_count": null,
      "metadata": {
        "id": "9-iI5ty59LOj"
      },
      "outputs": [],
      "source": []
    },
    {
      "cell_type": "markdown",
      "metadata": {
        "id": "4WxXODb79L73"
      },
      "source": [
        "#### save a zip for fiji inside the current directory"
      ]
    },
    {
      "cell_type": "code",
      "execution_count": null,
      "metadata": {
        "colab": {
          "base_uri": "https://localhost:8080/"
        },
        "id": "FHy5Tzcx5-J6",
        "outputId": "7adedb7c-328f-44d4-ca12-9e29df07c2e4"
      },
      "outputs": [],
      "source": [
        "teliko = model.export_TF()"
      ]
    },
    {
      "cell_type": "code",
      "execution_count": null,
      "metadata": {
        "id": "JbyyiQYM6vPK"
      },
      "outputs": [],
      "source": [
        "os.chdir(\"/content/gdrive/MyDrive/Colab Notebooks\")"
      ]
    },
    {
      "cell_type": "code",
      "execution_count": null,
      "metadata": {
        "colab": {
          "base_uri": "https://localhost:8080/"
        },
        "id": "WRQ721-WAVU1",
        "outputId": "ab29024f-63f6-4773-c2ee-2c6976975aee"
      },
      "outputs": [],
      "source": [
        "print('s')"
      ]
    }
  ],
  "metadata": {
    "accelerator": "GPU",
    "colab": {
      "gpuType": "T4",
      "provenance": []
    },
    "gpuClass": "standard",
    "kernelspec": {
      "display_name": "Python 3",
      "name": "python3"
    },
    "language_info": {
      "name": "python"
    }
  },
  "nbformat": 4,
  "nbformat_minor": 0
}
