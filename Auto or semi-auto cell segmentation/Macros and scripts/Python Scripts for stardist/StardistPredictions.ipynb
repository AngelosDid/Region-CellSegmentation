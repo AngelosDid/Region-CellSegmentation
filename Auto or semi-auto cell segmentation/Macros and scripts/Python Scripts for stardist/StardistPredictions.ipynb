{
 "cells": [
  {
   "cell_type": "code",
   "execution_count": null,
   "id": "60c4bb83",
   "metadata": {},
   "outputs": [],
   "source": [
    "import os \n",
    "\n",
    "from __future__ import print_function, unicode_literals, absolute_import, division\n",
    "import sys\n",
    "import numpy as np\n",
    "import matplotlib\n",
    "matplotlib.rcParams[\"image.interpolation\"] = 'none'\n",
    "import matplotlib.pyplot as plt\n",
    "%matplotlib inline\n",
    "%config InlineBackend.figure_format = 'retina'\n",
    "\n",
    "from glob import glob\n",
    "from tifffile import imread\n",
    "from csbdeep.utils import Path, normalize\n",
    "from csbdeep.io import save_tiff_imagej_compatible\n",
    "\n",
    "from stardist import random_label_cmap, _draw_polygons, export_imagej_rois\n",
    "from stardist.models import StarDist2D\n",
    "\n",
    "np.random.seed(6)\n",
    "lbl_cmap = random_label_cmap()\n"
   ]
  },
  {
   "cell_type": "code",
   "execution_count": null,
   "id": "80f1dac6",
   "metadata": {
    "scrolled": true
   },
   "outputs": [],
   "source": [
    "os.chdir(r'C:\\Users\\angdid\\Desktop\\Inputs and Results')\n",
    "\n",
    "X = sorted(glob('imagesset/*.tif'))       #check if it's tif or tiff if it's giving you empty list\n",
    "X = list(map(imread,X))\n",
    "\n",
    "n_channel = 1 if X[0].ndim == 2 else X[0].shape[-1]\n",
    "axis_norm = (0,1)   # normalize channels independently\n",
    "# axis_norm = (0,1,2) # normalize channels jointly\n",
    "if n_channel > 1:\n",
    "    print(\"Normalizing image channels %s.\" % ('jointly' if axis_norm is None or 2 in axis_norm else 'independently'))"
   ]
  },
  {
   "cell_type": "code",
   "execution_count": null,
   "id": "5a203a96",
   "metadata": {},
   "outputs": [],
   "source": []
  },
  {
   "cell_type": "markdown",
   "id": "333af117",
   "metadata": {},
   "source": [
    "### Visualize images"
   ]
  },
  {
   "cell_type": "code",
   "execution_count": null,
   "id": "ba1453a1",
   "metadata": {
    "scrolled": true
   },
   "outputs": [],
   "source": [
    "# show all test images\n",
    "if True:\n",
    "    fig, ax = plt.subplots(3,3, figsize=(64,64))   # 5,5 to create a template of 25. For more images change it\n",
    "    for i,(a,x) in enumerate(zip(ax.flat, X)):\n",
    "        a.imshow(x,cmap='gray', vmin = 180, vmax=1100)\n",
    "        a.set_title(i, fontsize=50)\n",
    "    [a.axis('off') for a in ax.flat]\n",
    "    plt.tight_layout()\n",
    "None;"
   ]
  },
  {
   "cell_type": "code",
   "execution_count": null,
   "id": "2817f0d8",
   "metadata": {},
   "outputs": [],
   "source": [
    "demo_model = False\n",
    "\n",
    "if demo_model:\n",
    "    print (\n",
    "        \"NOTE: This is loading a previously trained demo model!\\n\"\n",
    "        \"      Please set the variable 'demo_model = False' to load your own trained model.\",\n",
    "        file=sys.stderr, flush=True\n",
    "    )\n",
    "    model = StarDist2D.from_pretrained('2D_demo')\n",
    "else:\n",
    "    model = StarDist2D(None, name='SecondNet', basedir='models')\n",
    "None;"
   ]
  },
  {
   "cell_type": "code",
   "execution_count": null,
   "id": "c6b4b45e",
   "metadata": {},
   "outputs": [],
   "source": [
    "fig, ax = plt.subplots(4,2, figsize=(64,64))      # 5,5 to create a template of 25. For more images change it\n",
    "\n",
    "os.chdir(r'C:\\Users\\angdid\\Desktop\\Inputs and Results\\imagesset')\n",
    "images_names= sorted(glob('*.tif')) \n",
    "os.chdir(r'C:\\Users\\angdid\\Desktop\\Inputs and Results')\n",
    "\n",
    "for index, (a,x) in enumerate (zip (ax.flat,X)):\n",
    "    img = normalize(X[index], 1,99.8, axis=axis_norm)\n",
    "    labels, details = model.predict_instances(img, prob_thresh=0.4)    # also try , prob_thresh=0.4\n",
    "    a.imshow(labels,cmap='gray')\n",
    "    a.set_title(index, fontsize=50)\n",
    "    \n",
    "    save_tiff_imagej_compatible(f'{images_names[index]}.tiff', img, axes='YX')\n",
    "    save_tiff_imagej_compatible(f'{images_names[index]}-labels.tiff', labels, axes='YX')\n",
    "    export_imagej_rois(f'{images_names[index]}.zip', details['coord'])\n",
    "    \n"
   ]
  },
  {
   "cell_type": "code",
   "execution_count": null,
   "id": "d7fb78ac",
   "metadata": {},
   "outputs": [],
   "source": [
    "images_names"
   ]
  },
  {
   "cell_type": "code",
   "execution_count": null,
   "id": "e922eb9d",
   "metadata": {
    "hide_input": true
   },
   "outputs": [],
   "source": [
    "# fig, ax = plt.subplots(4,5, figsize=(64,64))   # 5,5 to create a template of 25. For more images change it\n",
    "\n",
    "# for index, (a,x) in enumerate (zip (ax.flat,X)):\n",
    "#     img = normalize(X[index], 1,99.8, axis=axis_norm)\n",
    "#     labels, details = model.predict_instances(img, prob_thresh=0.4)\n",
    "#     a.imshow(labels,cmap='gray')\n",
    "#     a.set_title(index, fontsize=50)\n",
    "\n",
    "#     [a.axis('off') for a in ax.flat]\n",
    "#     plt.tight_layout()\n",
    "    \n"
   ]
  }
 ],
 "metadata": {
  "hide_input": false,
  "kernelspec": {
   "display_name": "Python 3 (ipykernel)",
   "language": "python",
   "name": "python3"
  },
  "language_info": {
   "codemirror_mode": {
    "name": "ipython",
    "version": 3
   },
   "file_extension": ".py",
   "mimetype": "text/x-python",
   "name": "python",
   "nbconvert_exporter": "python",
   "pygments_lexer": "ipython3",
   "version": "3.11.5"
  }
 },
 "nbformat": 4,
 "nbformat_minor": 5
}
